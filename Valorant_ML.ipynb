{
 "cells": [
  {
   "cell_type": "markdown",
   "id": "f684fd50",
   "metadata": {},
   "source": [
    "Importing Libraries"
   ]
  },
  {
   "cell_type": "code",
   "execution_count": 1,
   "id": "c5caac29",
   "metadata": {},
   "outputs": [],
   "source": [
    "import pandas as pd\n",
    "import numpy as np\n",
    "from sklearn.compose import ColumnTransformer\n",
    "from sklearn.pipeline import Pipeline\n",
    "from sklearn.impute import SimpleImputer\n",
    "from sklearn.preprocessing import StandardScaler, OneHotEncoder, OrdinalEncoder\n",
    "from sklearn.model_selection import train_test_split\n",
    "from sklearn.metrics import  mean_absolute_error, mean_squared_error, accuracy_score\n",
    "from sklearn.linear_model import Lasso\n",
    "from sklearn.model_selection import GridSearchCV, RandomizedSearchCV\n",
    "from sklearn.neighbors import KNeighborsClassifier\n",
    "from sklearn.ensemble import RandomForestClassifier\n",
    "from sklearn.tree import DecisionTreeClassifier\n",
    "import matplotlib.pyplot as plt\n",
    "from random import randint\n",
    "import warnings\n",
    "\n",
    "# Suppress future warnings\n",
    "warnings.filterwarnings('ignore', category=FutureWarning)"
   ]
  },
  {
   "cell_type": "markdown",
   "id": "26c2f9c5",
   "metadata": {},
   "source": [
    "Loading Valorant Dataset"
   ]
  },
  {
   "cell_type": "code",
   "execution_count": 2,
   "id": "e7568bb5",
   "metadata": {},
   "outputs": [
    {
     "data": {
      "text/html": [
       "<div>\n",
       "<style scoped>\n",
       "    .dataframe tbody tr th:only-of-type {\n",
       "        vertical-align: middle;\n",
       "    }\n",
       "\n",
       "    .dataframe tbody tr th {\n",
       "        vertical-align: top;\n",
       "    }\n",
       "\n",
       "    .dataframe thead th {\n",
       "        text-align: right;\n",
       "    }\n",
       "</style>\n",
       "<table border=\"1\" class=\"dataframe\">\n",
       "  <thead>\n",
       "    <tr style=\"text-align: right;\">\n",
       "      <th></th>\n",
       "      <th>region</th>\n",
       "      <th>name</th>\n",
       "      <th>tag</th>\n",
       "      <th>rating</th>\n",
       "      <th>damage_round</th>\n",
       "      <th>headshots</th>\n",
       "      <th>headshot_percent</th>\n",
       "      <th>aces</th>\n",
       "      <th>clutches</th>\n",
       "      <th>flawless</th>\n",
       "      <th>...</th>\n",
       "      <th>gun2_name</th>\n",
       "      <th>gun2_head</th>\n",
       "      <th>gun2_body</th>\n",
       "      <th>gun2_legs</th>\n",
       "      <th>gun2_kills</th>\n",
       "      <th>gun3_name</th>\n",
       "      <th>gun3_head</th>\n",
       "      <th>gun3_body</th>\n",
       "      <th>gun3_legs</th>\n",
       "      <th>gun3_kills</th>\n",
       "    </tr>\n",
       "  </thead>\n",
       "  <tbody>\n",
       "    <tr>\n",
       "      <th>0</th>\n",
       "      <td>NaN</td>\n",
       "      <td>ShimmyXD</td>\n",
       "      <td>#NA1</td>\n",
       "      <td>Radiant</td>\n",
       "      <td>135.8</td>\n",
       "      <td>992</td>\n",
       "      <td>24.9</td>\n",
       "      <td>0</td>\n",
       "      <td>140</td>\n",
       "      <td>80</td>\n",
       "      <td>...</td>\n",
       "      <td>Phantom</td>\n",
       "      <td>33</td>\n",
       "      <td>62</td>\n",
       "      <td>5</td>\n",
       "      <td>220</td>\n",
       "      <td>Classic</td>\n",
       "      <td>36</td>\n",
       "      <td>60</td>\n",
       "      <td>3</td>\n",
       "      <td>147</td>\n",
       "    </tr>\n",
       "    <tr>\n",
       "      <th>1</th>\n",
       "      <td>NaN</td>\n",
       "      <td>XSET Cryo</td>\n",
       "      <td>#cells</td>\n",
       "      <td>Radiant</td>\n",
       "      <td>170.3</td>\n",
       "      <td>879</td>\n",
       "      <td>28.3</td>\n",
       "      <td>2</td>\n",
       "      <td>122</td>\n",
       "      <td>94</td>\n",
       "      <td>...</td>\n",
       "      <td>Operator</td>\n",
       "      <td>8</td>\n",
       "      <td>91</td>\n",
       "      <td>0</td>\n",
       "      <td>226</td>\n",
       "      <td>Phantom</td>\n",
       "      <td>32</td>\n",
       "      <td>63</td>\n",
       "      <td>5</td>\n",
       "      <td>137</td>\n",
       "    </tr>\n",
       "    <tr>\n",
       "      <th>2</th>\n",
       "      <td>NaN</td>\n",
       "      <td>PuRelittleone</td>\n",
       "      <td>#yoruW</td>\n",
       "      <td>Radiant</td>\n",
       "      <td>147.5</td>\n",
       "      <td>720</td>\n",
       "      <td>24.0</td>\n",
       "      <td>3</td>\n",
       "      <td>117</td>\n",
       "      <td>59</td>\n",
       "      <td>...</td>\n",
       "      <td>Phantom</td>\n",
       "      <td>36</td>\n",
       "      <td>61</td>\n",
       "      <td>3</td>\n",
       "      <td>231</td>\n",
       "      <td>Operator</td>\n",
       "      <td>8</td>\n",
       "      <td>91</td>\n",
       "      <td>1</td>\n",
       "      <td>102</td>\n",
       "    </tr>\n",
       "    <tr>\n",
       "      <th>3</th>\n",
       "      <td>NaN</td>\n",
       "      <td>Boba</td>\n",
       "      <td>#0068</td>\n",
       "      <td>Radiant</td>\n",
       "      <td>178.2</td>\n",
       "      <td>856</td>\n",
       "      <td>37.3</td>\n",
       "      <td>3</td>\n",
       "      <td>83</td>\n",
       "      <td>49</td>\n",
       "      <td>...</td>\n",
       "      <td>Sheriff</td>\n",
       "      <td>48</td>\n",
       "      <td>51</td>\n",
       "      <td>1</td>\n",
       "      <td>48</td>\n",
       "      <td>Phantom</td>\n",
       "      <td>44</td>\n",
       "      <td>56</td>\n",
       "      <td>0</td>\n",
       "      <td>36</td>\n",
       "    </tr>\n",
       "    <tr>\n",
       "      <th>4</th>\n",
       "      <td>NaN</td>\n",
       "      <td>i love mina</td>\n",
       "      <td>#kelly</td>\n",
       "      <td>Radiant</td>\n",
       "      <td>149.8</td>\n",
       "      <td>534</td>\n",
       "      <td>24.4</td>\n",
       "      <td>2</td>\n",
       "      <td>71</td>\n",
       "      <td>38</td>\n",
       "      <td>...</td>\n",
       "      <td>Spectre</td>\n",
       "      <td>21</td>\n",
       "      <td>71</td>\n",
       "      <td>8</td>\n",
       "      <td>65</td>\n",
       "      <td>Operator</td>\n",
       "      <td>8</td>\n",
       "      <td>92</td>\n",
       "      <td>0</td>\n",
       "      <td>64</td>\n",
       "    </tr>\n",
       "  </tbody>\n",
       "</table>\n",
       "<p>5 rows × 38 columns</p>\n",
       "</div>"
      ],
      "text/plain": [
       "  region           name     tag   rating  damage_round headshots  \\\n",
       "0    NaN       ShimmyXD    #NA1  Radiant         135.8       992   \n",
       "1    NaN      XSET Cryo  #cells  Radiant         170.3       879   \n",
       "2    NaN  PuRelittleone  #yoruW  Radiant         147.5       720   \n",
       "3    NaN           Boba   #0068  Radiant         178.2       856   \n",
       "4    NaN    i love mina  #kelly  Radiant         149.8       534   \n",
       "\n",
       "   headshot_percent  aces  clutches  flawless  ... gun2_name gun2_head  \\\n",
       "0              24.9     0       140        80  ...   Phantom        33   \n",
       "1              28.3     2       122        94  ...  Operator         8   \n",
       "2              24.0     3       117        59  ...   Phantom        36   \n",
       "3              37.3     3        83        49  ...   Sheriff        48   \n",
       "4              24.4     2        71        38  ...   Spectre        21   \n",
       "\n",
       "  gun2_body gun2_legs  gun2_kills  gun3_name  gun3_head  gun3_body  gun3_legs  \\\n",
       "0        62         5         220    Classic         36         60          3   \n",
       "1        91         0         226    Phantom         32         63          5   \n",
       "2        61         3         231   Operator          8         91          1   \n",
       "3        51         1          48    Phantom         44         56          0   \n",
       "4        71         8          65   Operator          8         92          0   \n",
       "\n",
       "   gun3_kills  \n",
       "0         147  \n",
       "1         137  \n",
       "2         102  \n",
       "3          36  \n",
       "4          64  \n",
       "\n",
       "[5 rows x 38 columns]"
      ]
     },
     "execution_count": 2,
     "metadata": {},
     "output_type": "execute_result"
    }
   ],
   "source": [
    "val = pd.read_csv(\"val_stats.csv\",  low_memory=False)\n",
    "df = val.copy()\n",
    "df.head()"
   ]
  },
  {
   "cell_type": "markdown",
   "id": "0ea4e2e5",
   "metadata": {},
   "source": [
    "Preprocessing"
   ]
  },
  {
   "cell_type": "code",
   "execution_count": 3,
   "id": "cffe11f6",
   "metadata": {},
   "outputs": [
    {
     "data": {
      "text/html": [
       "<div>\n",
       "<style scoped>\n",
       "    .dataframe tbody tr th:only-of-type {\n",
       "        vertical-align: middle;\n",
       "    }\n",
       "\n",
       "    .dataframe tbody tr th {\n",
       "        vertical-align: top;\n",
       "    }\n",
       "\n",
       "    .dataframe thead th {\n",
       "        text-align: right;\n",
       "    }\n",
       "</style>\n",
       "<table border=\"1\" class=\"dataframe\">\n",
       "  <thead>\n",
       "    <tr style=\"text-align: right;\">\n",
       "      <th></th>\n",
       "      <th>rating</th>\n",
       "      <th>damage_round</th>\n",
       "      <th>headshots</th>\n",
       "      <th>headshot_percent</th>\n",
       "      <th>aces</th>\n",
       "      <th>clutches</th>\n",
       "      <th>flawless</th>\n",
       "      <th>first_bloods</th>\n",
       "      <th>kills</th>\n",
       "      <th>deaths</th>\n",
       "      <th>...</th>\n",
       "      <th>gun2_head</th>\n",
       "      <th>gun2_body</th>\n",
       "      <th>gun2_legs</th>\n",
       "      <th>gun2_kills</th>\n",
       "      <th>gun3_name</th>\n",
       "      <th>gun3_head</th>\n",
       "      <th>gun3_body</th>\n",
       "      <th>gun3_legs</th>\n",
       "      <th>gun3_kills</th>\n",
       "      <th>username</th>\n",
       "    </tr>\n",
       "  </thead>\n",
       "  <tbody>\n",
       "    <tr>\n",
       "      <th>0</th>\n",
       "      <td>Radiant</td>\n",
       "      <td>135.8</td>\n",
       "      <td>992</td>\n",
       "      <td>24.9</td>\n",
       "      <td>0</td>\n",
       "      <td>140</td>\n",
       "      <td>80</td>\n",
       "      <td>161</td>\n",
       "      <td>1506</td>\n",
       "      <td>1408</td>\n",
       "      <td>...</td>\n",
       "      <td>33</td>\n",
       "      <td>62</td>\n",
       "      <td>5</td>\n",
       "      <td>220</td>\n",
       "      <td>Classic</td>\n",
       "      <td>36</td>\n",
       "      <td>60</td>\n",
       "      <td>3</td>\n",
       "      <td>147</td>\n",
       "      <td>ShimmyXD #NA1</td>\n",
       "    </tr>\n",
       "    <tr>\n",
       "      <th>1</th>\n",
       "      <td>Radiant</td>\n",
       "      <td>170.3</td>\n",
       "      <td>879</td>\n",
       "      <td>28.3</td>\n",
       "      <td>2</td>\n",
       "      <td>122</td>\n",
       "      <td>94</td>\n",
       "      <td>316</td>\n",
       "      <td>1608</td>\n",
       "      <td>1187</td>\n",
       "      <td>...</td>\n",
       "      <td>8</td>\n",
       "      <td>91</td>\n",
       "      <td>0</td>\n",
       "      <td>226</td>\n",
       "      <td>Phantom</td>\n",
       "      <td>32</td>\n",
       "      <td>63</td>\n",
       "      <td>5</td>\n",
       "      <td>137</td>\n",
       "      <td>XSET Cryo #cells</td>\n",
       "    </tr>\n",
       "    <tr>\n",
       "      <th>2</th>\n",
       "      <td>Radiant</td>\n",
       "      <td>147.5</td>\n",
       "      <td>720</td>\n",
       "      <td>24.0</td>\n",
       "      <td>3</td>\n",
       "      <td>117</td>\n",
       "      <td>59</td>\n",
       "      <td>216</td>\n",
       "      <td>1115</td>\n",
       "      <td>1064</td>\n",
       "      <td>...</td>\n",
       "      <td>36</td>\n",
       "      <td>61</td>\n",
       "      <td>3</td>\n",
       "      <td>231</td>\n",
       "      <td>Operator</td>\n",
       "      <td>8</td>\n",
       "      <td>91</td>\n",
       "      <td>1</td>\n",
       "      <td>102</td>\n",
       "      <td>PuRelittleone #yoruW</td>\n",
       "    </tr>\n",
       "    <tr>\n",
       "      <th>3</th>\n",
       "      <td>Radiant</td>\n",
       "      <td>178.2</td>\n",
       "      <td>856</td>\n",
       "      <td>37.3</td>\n",
       "      <td>3</td>\n",
       "      <td>83</td>\n",
       "      <td>49</td>\n",
       "      <td>235</td>\n",
       "      <td>1134</td>\n",
       "      <td>812</td>\n",
       "      <td>...</td>\n",
       "      <td>48</td>\n",
       "      <td>51</td>\n",
       "      <td>1</td>\n",
       "      <td>48</td>\n",
       "      <td>Phantom</td>\n",
       "      <td>44</td>\n",
       "      <td>56</td>\n",
       "      <td>0</td>\n",
       "      <td>36</td>\n",
       "      <td>Boba #0068</td>\n",
       "    </tr>\n",
       "    <tr>\n",
       "      <th>4</th>\n",
       "      <td>Radiant</td>\n",
       "      <td>149.8</td>\n",
       "      <td>534</td>\n",
       "      <td>24.4</td>\n",
       "      <td>2</td>\n",
       "      <td>71</td>\n",
       "      <td>38</td>\n",
       "      <td>137</td>\n",
       "      <td>869</td>\n",
       "      <td>781</td>\n",
       "      <td>...</td>\n",
       "      <td>21</td>\n",
       "      <td>71</td>\n",
       "      <td>8</td>\n",
       "      <td>65</td>\n",
       "      <td>Operator</td>\n",
       "      <td>8</td>\n",
       "      <td>92</td>\n",
       "      <td>0</td>\n",
       "      <td>64</td>\n",
       "      <td>i love mina #kelly</td>\n",
       "    </tr>\n",
       "  </tbody>\n",
       "</table>\n",
       "<p>5 rows × 36 columns</p>\n",
       "</div>"
      ],
      "text/plain": [
       "    rating  damage_round headshots  headshot_percent  aces  clutches  \\\n",
       "0  Radiant         135.8       992              24.9     0       140   \n",
       "1  Radiant         170.3       879              28.3     2       122   \n",
       "2  Radiant         147.5       720              24.0     3       117   \n",
       "3  Radiant         178.2       856              37.3     3        83   \n",
       "4  Radiant         149.8       534              24.4     2        71   \n",
       "\n",
       "   flawless first_bloods kills deaths  ... gun2_head  gun2_body  gun2_legs  \\\n",
       "0        80          161  1506   1408  ...        33         62          5   \n",
       "1        94          316  1608   1187  ...         8         91          0   \n",
       "2        59          216  1115   1064  ...        36         61          3   \n",
       "3        49          235  1134    812  ...        48         51          1   \n",
       "4        38          137   869    781  ...        21         71          8   \n",
       "\n",
       "   gun2_kills  gun3_name  gun3_head  gun3_body gun3_legs gun3_kills  \\\n",
       "0         220    Classic         36         60         3        147   \n",
       "1         226    Phantom         32         63         5        137   \n",
       "2         231   Operator          8         91         1        102   \n",
       "3          48    Phantom         44         56         0         36   \n",
       "4          65   Operator          8         92         0         64   \n",
       "\n",
       "               username  \n",
       "0         ShimmyXD #NA1  \n",
       "1      XSET Cryo #cells  \n",
       "2  PuRelittleone #yoruW  \n",
       "3            Boba #0068  \n",
       "4    i love mina #kelly  \n",
       "\n",
       "[5 rows x 36 columns]"
      ]
     },
     "execution_count": 3,
     "metadata": {},
     "output_type": "execute_result"
    }
   ],
   "source": [
    "# Combine username and tag into a single column\n",
    "df['username'] = df['name'] +\" \"+ df['tag']\n",
    "df.drop([\"region\", \"name\", \"tag\"], axis = 1, inplace = True)\n",
    "# Remove commas from numerical columns \n",
    "df = df.replace(',', '', regex=True)\n",
    "df.head()"
   ]
  },
  {
   "cell_type": "markdown",
   "id": "a670fc3b",
   "metadata": {},
   "source": [
    "Feature Definition"
   ]
  },
  {
   "cell_type": "code",
   "execution_count": 4,
   "id": "a1989033",
   "metadata": {},
   "outputs": [],
   "source": [
    "categorical_columns = [\"agent_1\", \"agent_2\",\"agent_3\", \"gun1_name\", \"gun2_name\", \"gun3_name\" ]\n",
    "\n",
    "numerical_columns = [\"damage_round\", \"headshots\", \"headshot_percent\", \"aces\", \"clutches\", \"flawless\", \"first_bloods\", \"kills\",\n",
    "                     \"deaths\",\"assists\", \"kd_ratio\", \"most_kills\", \"score_round\", \"wins\",\"win_percent\", \"gun1_head\", \"gun1_body\",\n",
    "                    \"gun1_legs\",\"gun1_kills\",\"gun2_head\", \"gun2_body\",\"gun2_legs\",\"gun2_kills\", \"gun3_head\", \"gun3_body\",\n",
    "                    \"gun3_legs\",\"gun3_kills\"]\n",
    "\n",
    "ranks = [\"Unrated\",\"Iron 1\", \"Iron 2\", \"Iron 3\",\"Bronze 1\", \"Bronze 2\", \"Bronze 3\",\"Silver 1\", \"Silver 2\", \"Silver 3\",\n",
    "    \"Gold 1\", \"Gold 2\", \"Gold 3\",\"Platinum 1\", \"Platinum 2\", \"Platinum 3\",\"Diamond 1\", \"Diamond 2\", \"Diamond 3\",\n",
    "    \"Ascendant 1\", \"Ascendant 2\", \"Ascendant 3\",\"Immortal 1\", \"Immortal 2\", \"Immortal 3\",\"Radiant\"\n",
    "]\n"
   ]
  },
  {
   "cell_type": "markdown",
   "id": "1318b3c0",
   "metadata": {},
   "source": [
    "Preprocessing Transformers"
   ]
  },
  {
   "cell_type": "code",
   "execution_count": 5,
   "id": "f49b1e10",
   "metadata": {},
   "outputs": [],
   "source": [
    "# Imputation transformer\n",
    "imputer = SimpleImputer(strategy='mean') # or 'median', 'most_frequent'\n",
    "\n",
    "# Encoding transformer\n",
    "encoder = OneHotEncoder(handle_unknown='ignore')\n",
    "ordinalencoder = OrdinalEncoder(categories=[ranks])\n",
    "ordinalencoder.fit(df[['rating']])\n",
    "\n",
    "# Scaling transformer\n",
    "scaler = StandardScaler()\n",
    "\n",
    "\n",
    "def dynamic_column_selector(column_names):\n",
    "    def column_selector(X):\n",
    "        return [col for col in column_names if col in X.columns]\n",
    "    return column_selector\n",
    "\n",
    "\n",
    "\n",
    "# Combine transformers into a ColumnTransformer\n",
    "preprocessor = ColumnTransformer(\n",
    "    transformers=[\n",
    "        ('num', scaler, dynamic_column_selector(numerical_columns)),\n",
    "        ('cat', encoder, dynamic_column_selector(categorical_columns)),\n",
    "        ('impute', imputer, dynamic_column_selector(numerical_columns)),\n",
    "    ])\n"
   ]
  },
  {
   "cell_type": "markdown",
   "id": "16563497",
   "metadata": {},
   "source": [
    "Pipelines"
   ]
  },
  {
   "cell_type": "code",
   "execution_count": 6,
   "id": "e5067420",
   "metadata": {
    "scrolled": false
   },
   "outputs": [],
   "source": [
    "# Creating Pipeline for each Model separately\n",
    "pipe_dt = Pipeline([('preprocessor', preprocessor), ('DT', DecisionTreeClassifier(random_state=42))])\n",
    "pipe_rf = Pipeline([('preprocessor', preprocessor), ('RF', RandomForestClassifier(random_state=42))])\n",
    "pipe_knn = Pipeline([('preprocessor', preprocessor), ('KNN', KNeighborsClassifier())])\n",
    "pipe_lasso = Pipeline([('preprocessor', preprocessor), ('Lasso', Lasso(random_state=42, alpha=0.5))])"
   ]
  },
  {
   "cell_type": "markdown",
   "id": "c53408b9",
   "metadata": {},
   "source": [
    " Data Splitting"
   ]
  },
  {
   "cell_type": "code",
   "execution_count": 7,
   "id": "ca362fea",
   "metadata": {},
   "outputs": [],
   "source": [
    "# Dividing Data into Training and Testing Dataset\n",
    "X = df.drop('rating', axis=1)\n",
    "y = ordinalencoder.transform(df[['rating']]).ravel()\n",
    "#Creating a ordinal column for Categorical Column \"rating\" in df\n",
    "df[\"rating_num\"] = y\n",
    "X_train, X_test, y_train, y_test = train_test_split(X, y, random_state=42)"
   ]
  },
  {
   "cell_type": "code",
   "execution_count": 8,
   "id": "5e252cc9",
   "metadata": {},
   "outputs": [
    {
     "data": {
      "text/plain": [
       "0.369982202133165"
      ]
     },
     "execution_count": 8,
     "metadata": {},
     "output_type": "execute_result"
    }
   ],
   "source": [
    "# Finding the maxiumum corelation between rating and other stats\n",
    "cor = df.corrwith(df['rating_num'])\n",
    "cor2 = cor.drop(cor.index[-1])\n",
    "cor2.max()"
   ]
  },
  {
   "cell_type": "code",
   "execution_count": 9,
   "id": "f5d3942a",
   "metadata": {},
   "outputs": [],
   "source": [
    "#This is very low correlation, further this information would help us proof that stats can not determine player's rank."
   ]
  },
  {
   "cell_type": "markdown",
   "id": "bf6021d9",
   "metadata": {},
   "source": [
    "Model Training and Testing"
   ]
  },
  {
   "cell_type": "code",
   "execution_count": 10,
   "id": "40c0a66c",
   "metadata": {
    "scrolled": false
   },
   "outputs": [
    {
     "name": "stdout",
     "output_type": "stream",
     "text": [
      "DECISION TREE\n",
      "Predicted Values: [23. 22. 24. 22. 22.]\n",
      "Actual Values: [23. 22. 22. 22. 23.]\n",
      "Decision Tree MAE: 0.66\n",
      "Decision Tree RMSE: 1.15\n",
      "Accuracy: 52.14%\n"
     ]
    },
    {
     "data": {
      "image/png": "[encoded data removed]",
      "text/plain": [
       "<Figure size 640x480 with 1 Axes>"
      ]
     },
     "metadata": {},
     "output_type": "display_data"
    },
    {
     "name": "stdout",
     "output_type": "stream",
     "text": [
      "\n",
      "\n",
      "RANDOM FOREST\n",
      "Predicted Values: [23. 22. 22. 22. 22.]\n",
      "Actual Values: [23. 22. 22. 22. 23.]\n",
      "Random Forest MAE: 0.54\n",
      "Random Forest RMSE: 1.0\n",
      "Accuracy: 60.42%\n"
     ]
    },
    {
     "data": {
      "image/png": "[encoded data removed]",
      "text/plain": [
       "<Figure size 640x480 with 1 Axes>"
      ]
     },
     "metadata": {},
     "output_type": "display_data"
    },
    {
     "name": "stdout",
     "output_type": "stream",
     "text": [
      "\n",
      "\n",
      "K-NEAREST NEIGHBORS\n",
      "Predicted Values: [22. 22. 23. 22. 22.]\n",
      "Actual Values: [23. 22. 22. 22. 23.]\n",
      "K-Nearest Neighbors MAE: 0.59\n",
      "K-Nearest Neighbors RMSE: 1.06\n",
      "Accuracy: 56.39%\n"
     ]
    },
    {
     "data": {
      "image/png": "[encoded data removed]",
      "text/plain": [
       "<Figure size 640x480 with 1 Axes>"
      ]
     },
     "metadata": {},
     "output_type": "display_data"
    },
    {
     "name": "stdout",
     "output_type": "stream",
     "text": [
      "\n",
      "\n",
      "LASSO\n",
      "Predicted Values: [22.57557298 22.21208411 22.36248174 22.26003738 22.33462795]\n",
      "Actual Values: [23. 22. 22. 22. 23.]\n",
      "LASSO MAE: 0.61\n",
      "LASSO RMSE: 0.87\n"
     ]
    },
    {
     "data": {
      "image/png": "[encoded data removed]",
      "text/plain": [
       "<Figure size 640x480 with 1 Axes>"
      ]
     },
     "metadata": {},
     "output_type": "display_data"
    },
    {
     "name": "stdout",
     "output_type": "stream",
     "text": [
      "\n",
      "\n"
     ]
    }
   ],
   "source": [
    "from sklearn.metrics import mean_absolute_error, mean_squared_error, accuracy_score\n",
    "import numpy as np\n",
    "import matplotlib.pyplot as plt\n",
    "\n",
    "models = [pipe_dt, pipe_rf, pipe_knn, pipe_lasso]\n",
    "model_names = ['Decision Tree', 'Random Forest', 'K-Nearest Neighbors', 'LASSO']\n",
    "\n",
    "for model, name in zip(models, model_names):\n",
    "    model.fit(X_train, y_train)\n",
    "    y_pred = model.predict(X_test)\n",
    "    print(name.upper())\n",
    "    print(f\"Predicted Values: {y_pred[:5]}\")\n",
    "    print(f\"Actual Values: {y_test[:5]}\")\n",
    "    mae = mean_absolute_error(y_test, y_pred)\n",
    "    print(f\"{name} MAE: {round(mae, 2)}\")\n",
    "    \n",
    "    mse = mean_squared_error(y_test, y_pred)\n",
    "    rmse = np.sqrt(mse)\n",
    "    print(f\"{name} RMSE: {round(rmse, 2)}\")\n",
    "    if(name != \"LASSO\"):\n",
    "        acc = accuracy_score(y_test, y_pred)*100\n",
    "        print(f\"Accuracy: {round(acc, 2)}%\")\n",
    "    plt.scatter(y_test, y_pred, color='blue', label='Predicted')\n",
    "    plt.scatter(y_test, y_test, color='red', label='Actual')\n",
    "    \n",
    "    plt.xlabel(\"actual\")\n",
    "    plt.ylabel(\"prediction\")\n",
    "    plt.show()\n",
    "    print(\"\\n\")\n"
   ]
  },
  {
   "cell_type": "markdown",
   "id": "0bb5e4b2",
   "metadata": {},
   "source": [
    "The scatter plots suggest a concentration of accurate predictions within the range of Radiant to Ascendant 1 (20-25 on the ranking scale)"
   ]
  },
  {
   "cell_type": "markdown",
   "id": "3dfad518",
   "metadata": {},
   "source": [
    "Trained multiple models (Decision Tree, Random Forest, KNN, LASSO) to predict player rank using stats.\n",
    "Random Forest performed best (60.42% accuracy), but the correlation between stats and rank was moderate (0.369).\n",
    "This suggests it's difficult to predict rank with high accuracy due to missing factors (game sense, teamwork) and limitations of the rank system itself."
   ]
  },
  {
   "cell_type": "markdown",
   "id": "3aeb82f4",
   "metadata": {},
   "source": [
    "Hyper Parameter Optimization"
   ]
  },
  {
   "cell_type": "code",
   "execution_count": null,
   "id": "409c98c2",
   "metadata": {},
   "outputs": [],
   "source": [
    "# Random Forest Optimization"
   ]
  },
  {
   "cell_type": "code",
   "execution_count": 20,
   "id": "fde58ba8",
   "metadata": {},
   "outputs": [
    {
     "name": "stderr",
     "output_type": "stream",
     "text": [
      "C:\\Users\\Visha\\anaconda3\\lib\\site-packages\\sklearn\\model_selection\\_search.py:292: UserWarning: The total space of parameters 12 is smaller than n_iter=100. Running 12 iterations. For exhaustive searches, use GridSearchCV.\n",
      "  warnings.warn(\n",
      "C:\\Users\\Visha\\anaconda3\\lib\\site-packages\\sklearn\\model_selection\\_split.py:676: UserWarning: The least populated class in y has only 1 members, which is less than n_splits=5.\n",
      "  warnings.warn(\n"
     ]
    },
    {
     "name": "stdout",
     "output_type": "stream",
     "text": [
      "Fitting 5 folds for each of 12 candidates, totalling 60 fits\n",
      "[CV] END RF__max_depth=3, RF__max_features=auto, RF__n_estimators=100; total time=   9.5s\n",
      "[CV] END RF__max_depth=3, RF__max_features=auto, RF__n_estimators=100; total time=  10.3s\n",
      "[CV] END RF__max_depth=3, RF__max_features=auto, RF__n_estimators=100; total time=   9.9s\n",
      "[CV] END RF__max_depth=3, RF__max_features=auto, RF__n_estimators=100; total time=   9.7s\n",
      "[CV] END RF__max_depth=3, RF__max_features=auto, RF__n_estimators=100; total time=   9.9s\n",
      "[CV] END RF__max_depth=3, RF__max_features=auto, RF__n_estimators=200; total time=  17.4s\n",
      "[CV] END RF__max_depth=3, RF__max_features=auto, RF__n_estimators=200; total time=  18.2s\n",
      "[CV] END RF__max_depth=3, RF__max_features=auto, RF__n_estimators=200; total time=  18.5s\n",
      "[CV] END RF__max_depth=3, RF__max_features=auto, RF__n_estimators=200; total time=  18.0s\n",
      "[CV] END RF__max_depth=3, RF__max_features=auto, RF__n_estimators=200; total time=  17.7s\n",
      "[CV] END RF__max_depth=3, RF__max_features=sqrt, RF__n_estimators=100; total time=   9.9s\n",
      "[CV] END RF__max_depth=3, RF__max_features=sqrt, RF__n_estimators=100; total time=  10.3s\n",
      "[CV] END RF__max_depth=3, RF__max_features=sqrt, RF__n_estimators=100; total time=  10.1s\n",
      "[CV] END RF__max_depth=3, RF__max_features=sqrt, RF__n_estimators=100; total time=   9.6s\n",
      "[CV] END RF__max_depth=3, RF__max_features=sqrt, RF__n_estimators=100; total time=   9.7s\n",
      "[CV] END RF__max_depth=3, RF__max_features=sqrt, RF__n_estimators=200; total time=  17.8s\n",
      "[CV] END RF__max_depth=3, RF__max_features=sqrt, RF__n_estimators=200; total time=  17.4s\n",
      "[CV] END RF__max_depth=3, RF__max_features=sqrt, RF__n_estimators=200; total time=  17.8s\n",
      "[CV] END RF__max_depth=3, RF__max_features=sqrt, RF__n_estimators=200; total time=  17.5s\n",
      "[CV] END RF__max_depth=3, RF__max_features=sqrt, RF__n_estimators=200; total time=  17.5s\n",
      "[CV] END RF__max_depth=3, RF__max_features=log2, RF__n_estimators=100; total time=   7.1s\n",
      "[CV] END RF__max_depth=3, RF__max_features=log2, RF__n_estimators=100; total time=   7.1s\n",
      "[CV] END RF__max_depth=3, RF__max_features=log2, RF__n_estimators=100; total time=   7.1s\n",
      "[CV] END RF__max_depth=3, RF__max_features=log2, RF__n_estimators=100; total time=   7.5s\n",
      "[CV] END RF__max_depth=3, RF__max_features=log2, RF__n_estimators=100; total time=   8.0s\n",
      "[CV] END RF__max_depth=3, RF__max_features=log2, RF__n_estimators=200; total time=  12.8s\n",
      "[CV] END RF__max_depth=3, RF__max_features=log2, RF__n_estimators=200; total time=  12.9s\n",
      "[CV] END RF__max_depth=3, RF__max_features=log2, RF__n_estimators=200; total time=  14.1s\n",
      "[CV] END RF__max_depth=3, RF__max_features=log2, RF__n_estimators=200; total time=  12.6s\n",
      "[CV] END RF__max_depth=3, RF__max_features=log2, RF__n_estimators=200; total time=  12.9s\n",
      "[CV] END RF__max_depth=5, RF__max_features=auto, RF__n_estimators=100; total time=  14.2s\n",
      "[CV] END RF__max_depth=5, RF__max_features=auto, RF__n_estimators=100; total time=  13.1s\n",
      "[CV] END RF__max_depth=5, RF__max_features=auto, RF__n_estimators=100; total time=  11.9s\n",
      "[CV] END RF__max_depth=5, RF__max_features=auto, RF__n_estimators=100; total time=  12.0s\n",
      "[CV] END RF__max_depth=5, RF__max_features=auto, RF__n_estimators=100; total time=  12.6s\n",
      "[CV] END RF__max_depth=5, RF__max_features=auto, RF__n_estimators=200; total time=  25.6s\n",
      "[CV] END RF__max_depth=5, RF__max_features=auto, RF__n_estimators=200; total time=  25.7s\n",
      "[CV] END RF__max_depth=5, RF__max_features=auto, RF__n_estimators=200; total time=  24.5s\n",
      "[CV] END RF__max_depth=5, RF__max_features=auto, RF__n_estimators=200; total time=  27.0s\n",
      "[CV] END RF__max_depth=5, RF__max_features=auto, RF__n_estimators=200; total time=  24.6s\n",
      "[CV] END RF__max_depth=5, RF__max_features=sqrt, RF__n_estimators=100; total time=  12.7s\n",
      "[CV] END RF__max_depth=5, RF__max_features=sqrt, RF__n_estimators=100; total time=  12.5s\n",
      "[CV] END RF__max_depth=5, RF__max_features=sqrt, RF__n_estimators=100; total time=  12.3s\n",
      "[CV] END RF__max_depth=5, RF__max_features=sqrt, RF__n_estimators=100; total time=   7.2s\n",
      "[CV] END RF__max_depth=5, RF__max_features=sqrt, RF__n_estimators=100; total time=   7.2s\n",
      "[CV] END RF__max_depth=5, RF__max_features=sqrt, RF__n_estimators=200; total time=  12.8s\n",
      "[CV] END RF__max_depth=5, RF__max_features=sqrt, RF__n_estimators=200; total time=  12.8s\n",
      "[CV] END RF__max_depth=5, RF__max_features=sqrt, RF__n_estimators=200; total time=  16.7s\n",
      "[CV] END RF__max_depth=5, RF__max_features=sqrt, RF__n_estimators=200; total time=  17.6s\n",
      "[CV] END RF__max_depth=5, RF__max_features=sqrt, RF__n_estimators=200; total time=  16.6s\n",
      "[CV] END RF__max_depth=5, RF__max_features=log2, RF__n_estimators=100; total time=   5.4s\n",
      "[CV] END RF__max_depth=5, RF__max_features=log2, RF__n_estimators=100; total time=   5.7s\n",
      "[CV] END RF__max_depth=5, RF__max_features=log2, RF__n_estimators=100; total time=   5.4s\n",
      "[CV] END RF__max_depth=5, RF__max_features=log2, RF__n_estimators=100; total time=   5.4s\n",
      "[CV] END RF__max_depth=5, RF__max_features=log2, RF__n_estimators=100; total time=   5.5s\n",
      "[CV] END RF__max_depth=5, RF__max_features=log2, RF__n_estimators=200; total time=   9.9s\n",
      "[CV] END RF__max_depth=5, RF__max_features=log2, RF__n_estimators=200; total time=   9.9s\n",
      "[CV] END RF__max_depth=5, RF__max_features=log2, RF__n_estimators=200; total time=   9.7s\n",
      "[CV] END RF__max_depth=5, RF__max_features=log2, RF__n_estimators=200; total time=   9.7s\n",
      "[CV] END RF__max_depth=5, RF__max_features=log2, RF__n_estimators=200; total time=   9.7s\n"
     ]
    },
    {
     "data": {
      "text/plain": [
       "RandomizedSearchCV(cv=5,\n",
       "                   estimator=Pipeline(steps=[('preprocessor',\n",
       "                                              ColumnTransformer(transformers=[('num',\n",
       "                                                                               StandardScaler(),\n",
       "                                                                               <function dynamic_column_selector.<locals>.column_selector at 0x0000028E6F957670>),\n",
       "                                                                              ('cat',\n",
       "                                                                               OneHotEncoder(handle_unknown='ignore'),\n",
       "                                                                               <function dynamic_column_selector.<locals>.column_selector at 0x0000028E6F957700>),\n",
       "                                                                              ('impute',\n",
       "                                                                               SimpleImputer(),\n",
       "                                                                               <function dynamic_column_selector.<locals>.column_selector at 0x0000028E6F957790>)])),\n",
       "                                             ('RF',\n",
       "                                              RandomForestClassifier(random_state=42))]),\n",
       "                   n_iter=100,\n",
       "                   param_distributions={'RF__max_depth': [3, 5],\n",
       "                                        'RF__max_features': ['auto', 'sqrt',\n",
       "                                                             'log2'],\n",
       "                                        'RF__n_estimators': [100, 200]},\n",
       "                   scoring='accuracy', verbose=2)"
      ]
     },
     "execution_count": 20,
     "metadata": {},
     "output_type": "execute_result"
    }
   ],
   "source": [
    "# hyperparameter for Ranndom Forest \n",
    "rf_params = {\n",
    "    'RF__n_estimators': [100, 200],  # Number of trees (random int)\n",
    "    'RF__max_depth': [3, 5],        # Maximum depth (random int)\n",
    "    'RF__max_features': ['auto', 'sqrt', 'log2']  # Feature consideration (choice)\n",
    "}\n",
    "\n",
    "# Set the number of random parameter sets to explore (n_iter)\n",
    "n_iter_search = 100 \n",
    "\n",
    "random_search_rf = RandomizedSearchCV(\n",
    "    pipe_rf, rf_params, n_iter=n_iter_search, cv=5, scoring=\"accuracy\", verbose=2\n",
    ")\n",
    "\n",
    "# Fit the RandomizedSearchCV model to your training data\n",
    "random_search_rf.fit(X_train, y_train)"
   ]
  },
  {
   "cell_type": "code",
   "execution_count": 22,
   "id": "7c7c3528",
   "metadata": {},
   "outputs": [
    {
     "name": "stdout",
     "output_type": "stream",
     "text": [
      "0.5995798319327731\n"
     ]
    }
   ],
   "source": [
    "best_random_rf = random_search_rf.best_estimator_\n",
    "random_rf_accuracy = best_random_rf.score(X_test, y_test)\n",
    "print(random_rf_accuracy)"
   ]
  },
  {
   "cell_type": "code",
   "execution_count": 24,
   "id": "1a435973",
   "metadata": {},
   "outputs": [
    {
     "name": "stdout",
     "output_type": "stream",
     "text": [
      "Fitting 3 folds for each of 12 candidates, totalling 36 fits\n"
     ]
    },
    {
     "name": "stderr",
     "output_type": "stream",
     "text": [
      "C:\\Users\\Visha\\anaconda3\\lib\\site-packages\\sklearn\\model_selection\\_split.py:676: UserWarning: The least populated class in y has only 1 members, which is less than n_splits=3.\n",
      "  warnings.warn(\n"
     ]
    },
    {
     "name": "stdout",
     "output_type": "stream",
     "text": [
      "[CV] END RF__max_depth=3, RF__max_features=auto, RF__n_estimators=100; total time=   4.6s\n",
      "[CV] END RF__max_depth=3, RF__max_features=auto, RF__n_estimators=100; total time=   5.3s\n",
      "[CV] END RF__max_depth=3, RF__max_features=auto, RF__n_estimators=100; total time=   5.3s\n",
      "[CV] END RF__max_depth=3, RF__max_features=auto, RF__n_estimators=200; total time=  10.3s\n",
      "[CV] END RF__max_depth=3, RF__max_features=auto, RF__n_estimators=200; total time=   8.8s\n",
      "[CV] END RF__max_depth=3, RF__max_features=auto, RF__n_estimators=200; total time=   8.6s\n",
      "[CV] END RF__max_depth=3, RF__max_features=sqrt, RF__n_estimators=100; total time=   4.8s\n",
      "[CV] END RF__max_depth=3, RF__max_features=sqrt, RF__n_estimators=100; total time=   4.8s\n",
      "[CV] END RF__max_depth=3, RF__max_features=sqrt, RF__n_estimators=100; total time=   4.8s\n",
      "[CV] END RF__max_depth=3, RF__max_features=sqrt, RF__n_estimators=200; total time=   8.8s\n",
      "[CV] END RF__max_depth=3, RF__max_features=sqrt, RF__n_estimators=200; total time=   8.9s\n",
      "[CV] END RF__max_depth=3, RF__max_features=sqrt, RF__n_estimators=200; total time=   9.8s\n",
      "[CV] END RF__max_depth=3, RF__max_features=log2, RF__n_estimators=100; total time=   3.8s\n",
      "[CV] END RF__max_depth=3, RF__max_features=log2, RF__n_estimators=100; total time=   3.5s\n",
      "[CV] END RF__max_depth=3, RF__max_features=log2, RF__n_estimators=100; total time=   3.5s\n",
      "[CV] END RF__max_depth=3, RF__max_features=log2, RF__n_estimators=200; total time=   6.3s\n",
      "[CV] END RF__max_depth=3, RF__max_features=log2, RF__n_estimators=200; total time=   6.4s\n",
      "[CV] END RF__max_depth=3, RF__max_features=log2, RF__n_estimators=200; total time=   6.4s\n",
      "[CV] END RF__max_depth=5, RF__max_features=auto, RF__n_estimators=100; total time=   7.2s\n",
      "[CV] END RF__max_depth=5, RF__max_features=auto, RF__n_estimators=100; total time=   6.8s\n",
      "[CV] END RF__max_depth=5, RF__max_features=auto, RF__n_estimators=100; total time=   6.5s\n",
      "[CV] END RF__max_depth=5, RF__max_features=auto, RF__n_estimators=200; total time=  12.1s\n",
      "[CV] END RF__max_depth=5, RF__max_features=auto, RF__n_estimators=200; total time=  12.0s\n",
      "[CV] END RF__max_depth=5, RF__max_features=auto, RF__n_estimators=200; total time=  12.2s\n",
      "[CV] END RF__max_depth=5, RF__max_features=sqrt, RF__n_estimators=100; total time=   6.8s\n",
      "[CV] END RF__max_depth=5, RF__max_features=sqrt, RF__n_estimators=100; total time=   8.3s\n",
      "[CV] END RF__max_depth=5, RF__max_features=sqrt, RF__n_estimators=100; total time=   7.3s\n",
      "[CV] END RF__max_depth=5, RF__max_features=sqrt, RF__n_estimators=200; total time=  12.5s\n",
      "[CV] END RF__max_depth=5, RF__max_features=sqrt, RF__n_estimators=200; total time=  13.3s\n",
      "[CV] END RF__max_depth=5, RF__max_features=sqrt, RF__n_estimators=200; total time=  12.5s\n",
      "[CV] END RF__max_depth=5, RF__max_features=log2, RF__n_estimators=100; total time=   4.8s\n",
      "[CV] END RF__max_depth=5, RF__max_features=log2, RF__n_estimators=100; total time=   4.7s\n",
      "[CV] END RF__max_depth=5, RF__max_features=log2, RF__n_estimators=100; total time=   4.7s\n",
      "[CV] END RF__max_depth=5, RF__max_features=log2, RF__n_estimators=200; total time=   8.9s\n",
      "[CV] END RF__max_depth=5, RF__max_features=log2, RF__n_estimators=200; total time=   8.6s\n",
      "[CV] END RF__max_depth=5, RF__max_features=log2, RF__n_estimators=200; total time=   8.6s\n"
     ]
    },
    {
     "data": {
      "text/plain": [
       "GridSearchCV(cv=3,\n",
       "             estimator=Pipeline(steps=[('preprocessor',\n",
       "                                        ColumnTransformer(transformers=[('num',\n",
       "                                                                         StandardScaler(),\n",
       "                                                                         <function dynamic_column_selector.<locals>.column_selector at 0x0000028E6F957670>),\n",
       "                                                                        ('cat',\n",
       "                                                                         OneHotEncoder(handle_unknown='ignore'),\n",
       "                                                                         <function dynamic_column_selector.<locals>.column_selector at 0x0000028E6F957700>),\n",
       "                                                                        ('impute',\n",
       "                                                                         SimpleImputer(),\n",
       "                                                                         <function dynamic_column_selector.<locals>.column_selector at 0x0000028E6F957790>)])),\n",
       "                                       ('RF',\n",
       "                                        RandomForestClassifier(random_state=42))]),\n",
       "             param_grid={'RF__max_depth': [3, 5],\n",
       "                         'RF__max_features': ['auto', 'sqrt', 'log2'],\n",
       "                         'RF__n_estimators': [100, 200]},\n",
       "             scoring='accuracy', verbose=2)"
      ]
     },
     "execution_count": 24,
     "metadata": {},
     "output_type": "execute_result"
    }
   ],
   "source": [
    "# Implenting GridSearchCV for Random Forest\n",
    "grid_search_rf = GridSearchCV(pipe_rf, param_dist, cv=3, scoring=\"accuracy\", verbose =2)  \n",
    "grid_search_rf.fit(X_train, y_train)"
   ]
  },
  {
   "cell_type": "code",
   "execution_count": 25,
   "id": "3518e7e5",
   "metadata": {},
   "outputs": [
    {
     "name": "stdout",
     "output_type": "stream",
     "text": [
      "0.5995798319327731\n"
     ]
    }
   ],
   "source": [
    "best_grid_rf = grid_search_rf.best_estimator_\n",
    "grid_rf_accuracy = best_grid_rf.score(X_test, y_test)\n",
    "print(grid_rf_accuracy)"
   ]
  },
  {
   "cell_type": "code",
   "execution_count": 40,
   "id": "f87a246c",
   "metadata": {},
   "outputs": [],
   "source": [
    "# Decision Tree Optimization"
   ]
  },
  {
   "cell_type": "code",
   "execution_count": 33,
   "id": "8ae7a79a",
   "metadata": {},
   "outputs": [
    {
     "name": "stderr",
     "output_type": "stream",
     "text": [
      "C:\\Users\\Visha\\anaconda3\\lib\\site-packages\\sklearn\\model_selection\\_search.py:292: UserWarning: The total space of parameters 9 is smaller than n_iter=100. Running 9 iterations. For exhaustive searches, use GridSearchCV.\n",
      "  warnings.warn(\n",
      "C:\\Users\\Visha\\anaconda3\\lib\\site-packages\\sklearn\\model_selection\\_split.py:676: UserWarning: The least populated class in y has only 1 members, which is less than n_splits=5.\n",
      "  warnings.warn(\n"
     ]
    },
    {
     "name": "stdout",
     "output_type": "stream",
     "text": [
      "Fitting 5 folds for each of 9 candidates, totalling 45 fits\n",
      "[CV] END ............DT__max_depth=2, DT__min_samples_leaf=2; total time=   2.6s\n",
      "[CV] END ............DT__max_depth=2, DT__min_samples_leaf=2; total time=   2.3s\n",
      "[CV] END ............DT__max_depth=2, DT__min_samples_leaf=2; total time=   2.4s\n",
      "[CV] END ............DT__max_depth=2, DT__min_samples_leaf=2; total time=   2.3s\n",
      "[CV] END ............DT__max_depth=2, DT__min_samples_leaf=2; total time=   2.3s\n",
      "[CV] END ............DT__max_depth=2, DT__min_samples_leaf=4; total time=   2.3s\n",
      "[CV] END ............DT__max_depth=2, DT__min_samples_leaf=4; total time=   2.3s\n",
      "[CV] END ............DT__max_depth=2, DT__min_samples_leaf=4; total time=   2.3s\n",
      "[CV] END ............DT__max_depth=2, DT__min_samples_leaf=4; total time=   2.3s\n",
      "[CV] END ............DT__max_depth=2, DT__min_samples_leaf=4; total time=   2.3s\n",
      "[CV] END ............DT__max_depth=2, DT__min_samples_leaf=6; total time=   2.6s\n",
      "[CV] END ............DT__max_depth=2, DT__min_samples_leaf=6; total time=   2.3s\n",
      "[CV] END ............DT__max_depth=2, DT__min_samples_leaf=6; total time=   2.3s\n",
      "[CV] END ............DT__max_depth=2, DT__min_samples_leaf=6; total time=   2.3s\n",
      "[CV] END ............DT__max_depth=2, DT__min_samples_leaf=6; total time=   2.3s\n",
      "[CV] END ............DT__max_depth=4, DT__min_samples_leaf=2; total time=   3.0s\n",
      "[CV] END ............DT__max_depth=4, DT__min_samples_leaf=2; total time=   3.0s\n",
      "[CV] END ............DT__max_depth=4, DT__min_samples_leaf=2; total time=   3.0s\n",
      "[CV] END ............DT__max_depth=4, DT__min_samples_leaf=2; total time=   3.1s\n",
      "[CV] END ............DT__max_depth=4, DT__min_samples_leaf=2; total time=   3.1s\n",
      "[CV] END ............DT__max_depth=4, DT__min_samples_leaf=4; total time=   3.2s\n",
      "[CV] END ............DT__max_depth=4, DT__min_samples_leaf=4; total time=   3.1s\n",
      "[CV] END ............DT__max_depth=4, DT__min_samples_leaf=4; total time=   3.0s\n",
      "[CV] END ............DT__max_depth=4, DT__min_samples_leaf=4; total time=   3.2s\n",
      "[CV] END ............DT__max_depth=4, DT__min_samples_leaf=4; total time=   3.1s\n",
      "[CV] END ............DT__max_depth=4, DT__min_samples_leaf=6; total time=   3.1s\n",
      "[CV] END ............DT__max_depth=4, DT__min_samples_leaf=6; total time=   3.2s\n",
      "[CV] END ............DT__max_depth=4, DT__min_samples_leaf=6; total time=   3.0s\n",
      "[CV] END ............DT__max_depth=4, DT__min_samples_leaf=6; total time=   3.1s\n",
      "[CV] END ............DT__max_depth=4, DT__min_samples_leaf=6; total time=   3.1s\n",
      "[CV] END ............DT__max_depth=6, DT__min_samples_leaf=2; total time=   3.7s\n",
      "[CV] END ............DT__max_depth=6, DT__min_samples_leaf=2; total time=   3.8s\n",
      "[CV] END ............DT__max_depth=6, DT__min_samples_leaf=2; total time=   3.7s\n",
      "[CV] END ............DT__max_depth=6, DT__min_samples_leaf=2; total time=   3.8s\n",
      "[CV] END ............DT__max_depth=6, DT__min_samples_leaf=2; total time=   3.8s\n",
      "[CV] END ............DT__max_depth=6, DT__min_samples_leaf=4; total time=   3.9s\n",
      "[CV] END ............DT__max_depth=6, DT__min_samples_leaf=4; total time=   3.8s\n",
      "[CV] END ............DT__max_depth=6, DT__min_samples_leaf=4; total time=   3.7s\n",
      "[CV] END ............DT__max_depth=6, DT__min_samples_leaf=4; total time=   3.8s\n",
      "[CV] END ............DT__max_depth=6, DT__min_samples_leaf=4; total time=   3.9s\n",
      "[CV] END ............DT__max_depth=6, DT__min_samples_leaf=6; total time=   3.8s\n",
      "[CV] END ............DT__max_depth=6, DT__min_samples_leaf=6; total time=   3.8s\n",
      "[CV] END ............DT__max_depth=6, DT__min_samples_leaf=6; total time=   3.7s\n",
      "[CV] END ............DT__max_depth=6, DT__min_samples_leaf=6; total time=   3.8s\n",
      "[CV] END ............DT__max_depth=6, DT__min_samples_leaf=6; total time=   3.9s\n"
     ]
    },
    {
     "data": {
      "text/plain": [
       "RandomizedSearchCV(cv=5,\n",
       "                   estimator=Pipeline(steps=[('preprocessor',\n",
       "                                              ColumnTransformer(transformers=[('num',\n",
       "                                                                               StandardScaler(),\n",
       "                                                                               <function dynamic_column_selector.<locals>.column_selector at 0x0000028E6F957670>),\n",
       "                                                                              ('cat',\n",
       "                                                                               OneHotEncoder(handle_unknown='ignore'),\n",
       "                                                                               <function dynamic_column_selector.<locals>.column_selector at 0x0000028E6F957700>),\n",
       "                                                                              ('impute',\n",
       "                                                                               SimpleImputer(),\n",
       "                                                                               <function dynamic_column_selector.<locals>.column_selector at 0x0000028E6F957790>)])),\n",
       "                                             ('DT',\n",
       "                                              DecisionTreeClassifier(random_state=42))]),\n",
       "                   n_iter=100,\n",
       "                   param_distributions={'DT__max_depth': [2, 4, 6],\n",
       "                                        'DT__min_samples_leaf': [2, 4, 6]},\n",
       "                   scoring='accuracy', verbose=2)"
      ]
     },
     "execution_count": 33,
     "metadata": {},
     "output_type": "execute_result"
    }
   ],
   "source": [
    "# hyperparameter for Decision Tree\n",
    "dt_params = { \n",
    "    'DT__max_depth': [2, 4, 6],\n",
    "    'DT__min_samples_leaf': [2, 4, 6],\n",
    "}\n",
    "\n",
    "\n",
    "random_search_dt = RandomizedSearchCV(\n",
    "    pipe_dt, dt_params,, cv=5, scoring=\"accuracy\", verbose=2\n",
    ")\n",
    "\n",
    "# Fit the RandomizedSearchCV model to your training data\n",
    "random_search_dt.fit(X_train, y_train)"
   ]
  },
  {
   "cell_type": "code",
   "execution_count": 34,
   "id": "14ffb8e4",
   "metadata": {},
   "outputs": [
    {
     "name": "stdout",
     "output_type": "stream",
     "text": [
      "0.6007469654528478\n"
     ]
    }
   ],
   "source": [
    "best_random_dt = random_search_dt.best_estimator_\n",
    "random_dt_accuracy = best_random_dt.score(X_test, y_test)\n",
    "print(random_dt_accuracy)"
   ]
  },
  {
   "cell_type": "code",
   "execution_count": 36,
   "id": "825d4efd",
   "metadata": {},
   "outputs": [
    {
     "name": "stdout",
     "output_type": "stream",
     "text": [
      "Fitting 3 folds for each of 9 candidates, totalling 27 fits\n"
     ]
    },
    {
     "name": "stderr",
     "output_type": "stream",
     "text": [
      "C:\\Users\\Visha\\anaconda3\\lib\\site-packages\\sklearn\\model_selection\\_split.py:676: UserWarning: The least populated class in y has only 1 members, which is less than n_splits=3.\n",
      "  warnings.warn(\n"
     ]
    },
    {
     "name": "stdout",
     "output_type": "stream",
     "text": [
      "[CV] END ............DT__max_depth=2, DT__min_samples_leaf=2; total time=   2.4s\n",
      "[CV] END ............DT__max_depth=2, DT__min_samples_leaf=2; total time=   2.1s\n",
      "[CV] END ............DT__max_depth=2, DT__min_samples_leaf=2; total time=   2.1s\n",
      "[CV] END ............DT__max_depth=2, DT__min_samples_leaf=4; total time=   2.1s\n",
      "[CV] END ............DT__max_depth=2, DT__min_samples_leaf=4; total time=   2.1s\n",
      "[CV] END ............DT__max_depth=2, DT__min_samples_leaf=4; total time=   2.2s\n",
      "[CV] END ............DT__max_depth=2, DT__min_samples_leaf=6; total time=   2.1s\n",
      "[CV] END ............DT__max_depth=2, DT__min_samples_leaf=6; total time=   2.2s\n",
      "[CV] END ............DT__max_depth=2, DT__min_samples_leaf=6; total time=   2.2s\n",
      "[CV] END ............DT__max_depth=4, DT__min_samples_leaf=2; total time=   2.7s\n",
      "[CV] END ............DT__max_depth=4, DT__min_samples_leaf=2; total time=   2.7s\n",
      "[CV] END ............DT__max_depth=4, DT__min_samples_leaf=2; total time=   2.7s\n",
      "[CV] END ............DT__max_depth=4, DT__min_samples_leaf=4; total time=   2.8s\n",
      "[CV] END ............DT__max_depth=4, DT__min_samples_leaf=4; total time=   2.8s\n",
      "[CV] END ............DT__max_depth=4, DT__min_samples_leaf=4; total time=   2.7s\n",
      "[CV] END ............DT__max_depth=4, DT__min_samples_leaf=6; total time=   2.7s\n",
      "[CV] END ............DT__max_depth=4, DT__min_samples_leaf=6; total time=   2.7s\n",
      "[CV] END ............DT__max_depth=4, DT__min_samples_leaf=6; total time=   2.8s\n",
      "[CV] END ............DT__max_depth=6, DT__min_samples_leaf=2; total time=   3.3s\n",
      "[CV] END ............DT__max_depth=6, DT__min_samples_leaf=2; total time=   3.2s\n",
      "[CV] END ............DT__max_depth=6, DT__min_samples_leaf=2; total time=   3.2s\n",
      "[CV] END ............DT__max_depth=6, DT__min_samples_leaf=4; total time=   3.3s\n",
      "[CV] END ............DT__max_depth=6, DT__min_samples_leaf=4; total time=   3.2s\n",
      "[CV] END ............DT__max_depth=6, DT__min_samples_leaf=4; total time=   3.2s\n",
      "[CV] END ............DT__max_depth=6, DT__min_samples_leaf=6; total time=   3.3s\n",
      "[CV] END ............DT__max_depth=6, DT__min_samples_leaf=6; total time=   3.6s\n",
      "[CV] END ............DT__max_depth=6, DT__min_samples_leaf=6; total time=   3.6s\n"
     ]
    },
    {
     "data": {
      "text/plain": [
       "GridSearchCV(cv=3,\n",
       "             estimator=Pipeline(steps=[('preprocessor',\n",
       "                                        ColumnTransformer(transformers=[('num',\n",
       "                                                                         StandardScaler(),\n",
       "                                                                         <function dynamic_column_selector.<locals>.column_selector at 0x0000028E6F957670>),\n",
       "                                                                        ('cat',\n",
       "                                                                         OneHotEncoder(handle_unknown='ignore'),\n",
       "                                                                         <function dynamic_column_selector.<locals>.column_selector at 0x0000028E6F957700>),\n",
       "                                                                        ('impute',\n",
       "                                                                         SimpleImputer(),\n",
       "                                                                         <function dynamic_column_selector.<locals>.column_selector at 0x0000028E6F957790>)])),\n",
       "                                       ('DT',\n",
       "                                        DecisionTreeClassifier(random_state=42))]),\n",
       "             param_grid={'DT__max_depth': [2, 4, 6],\n",
       "                         'DT__min_samples_leaf': [2, 4, 6]},\n",
       "             scoring='accuracy', verbose=2)"
      ]
     },
     "execution_count": 36,
     "metadata": {},
     "output_type": "execute_result"
    }
   ],
   "source": [
    "# Implenting GridSearchCV for Decision Tree\n",
    "grid_search_dt = GridSearchCV(pipe_dt, dt_params, cv=3, scoring=\"accuracy\", verbose =2)  \n",
    "grid_search_dt.fit(X_train, y_train)"
   ]
  },
  {
   "cell_type": "code",
   "execution_count": 37,
   "id": "8a1e16de",
   "metadata": {},
   "outputs": [
    {
     "name": "stdout",
     "output_type": "stream",
     "text": [
      "0.6006535947712418\n"
     ]
    }
   ],
   "source": [
    "best_grid_dt = grid_search_dt.best_estimator_\n",
    "grid_dt_accuracy = best_grid_dt.score(X_test, y_test)\n",
    "print(grid_dt_accuracy)"
   ]
  },
  {
   "cell_type": "markdown",
   "id": "c71d9cb8",
   "metadata": {},
   "source": [
    "Hyperparameter tuning resulted in a decision tree accuracy improvement to 60%. Random Forest performance remained largely unchanged. These results suggest that even with optimized models, player rank prediction based solely on stats is unlikely to achieve more than 60% accuracy. This indicates that other factors beyond the provided data may significantly influence player rank."
   ]
  },
  {
   "cell_type": "code",
   "execution_count": null,
   "id": "b64d9614",
   "metadata": {},
   "outputs": [],
   "source": []
  }
 ],
 "metadata": {
  "kernelspec": {
   "display_name": "Python 3 (ipykernel)",
   "language": "python",
   "name": "python3"
  },
  "language_info": {
   "codemirror_mode": {
    "name": "ipython",
    "version": 3
   },
   "file_extension": ".py",
   "mimetype": "text/x-python",
   "name": "python",
   "nbconvert_exporter": "python",
   "pygments_lexer": "ipython3",
   "version": "3.9.13"
  }
 },
 "nbformat": 4,
 "nbformat_minor": 5
}
